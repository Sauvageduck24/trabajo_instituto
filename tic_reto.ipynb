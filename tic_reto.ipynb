{
  "nbformat": 4,
  "nbformat_minor": 0,
  "metadata": {
    "colab": {
      "provenance": [],
      "collapsed_sections": []
    },
    "kernelspec": {
      "name": "python3",
      "display_name": "Python 3"
    },
    "language_info": {
      "name": "python"
    }
  },
  "cells": [
    {
      "cell_type": "code",
      "source": [
        "def bisiesto(num):\n",
        "  if num % 4 == 0 and (num % 100 != 0 or num % 400 == 0): # esto sirve para sabere si es bisiesto o no\n",
        "    altramuces=True\n",
        "  else:\n",
        "    altramuces=False\n",
        "\n",
        "  return altramuces #he llamado la variable altramuces porque roberto me lo dijo\n",
        "\n",
        "def calcular_dia(D,M,A,is_bisiesto):\n",
        "  dic={0:'domingo',1:'lunes',2:'martes',3:'miércoles',4:'jueves',5:'viernes'}\n",
        "  modulo_bisiesto={1:0,2:3,3:4,4:0,5:2,6:5,7:0,8:3,9:6,10:1,11:4,12:6}\n",
        "  modulo_nobisiesto={1:0,2:3,3:3,4:6,5:1,6:4,7:6,8:2,9:5,10:0,11:3,12:5}\n",
        "  if is_bisiesto==True:\n",
        "    M_=modulo_bisiesto[M]\n",
        "  else:\n",
        "    M_=modulo_nobisiesto[M]\n",
        "\n",
        "  #esta fórmula está copiada de https://es.wikibooks.org/wiki/Algoritmia/Algoritmo_para_calcular_el_d%C3%ADa_de_la_semana\n",
        "\n",
        "  x= ( int((A-1)/4) - (3 * int((int((A-1)/100) + 1)/4)))%7 \n",
        "\n",
        "  dia_semana=((A-1)%7 + x + M_ + D%7)%7\n",
        "\n",
        "  dia_semana=dic[dia_semana]\n",
        "  return dia_semana"
      ],
      "metadata": {
        "id": "hh4RXZsTvZwS"
      },
      "execution_count": 69,
      "outputs": []
    },
    {
      "cell_type": "code",
      "execution_count": 71,
      "metadata": {
        "colab": {
          "base_uri": "https://localhost:8080/"
        },
        "id": "QiFQs-WYlE2U",
        "outputId": "1dc92080-ab7e-4a4b-abb9-5df5c5f8d6d8"
      },
      "outputs": [
        {
          "output_type": "stream",
          "name": "stdout",
          "text": [
            "Ingrese el día: 11\n",
            "Ingrese el mes: 10\n",
            "Ingrese el años: 2022\n",
            "martes\n"
          ]
        }
      ],
      "source": [
        "fin=False\n",
        "\n",
        "while not fin:\n",
        "  # pido los datos\n",
        "  dia=input('Ingrese el día: ')\n",
        "  mes=input('Ingrese el mes: ')\n",
        "  año=input('Ingrese el años: ')\n",
        "\n",
        "  # hago todas las validaciones de datos\n",
        "  try:\n",
        "    dia=int(dia);mes=int(mes);año=int(año)\n",
        "    es_bisiesto=bisiesto(año)\n",
        "\n",
        "    if es_bisiesto==True:\n",
        "      if mes<=12:\n",
        "        if mes==2:\n",
        "          if dia<=29:\n",
        "            fin=True\n",
        "          else:\n",
        "            print(f'Un mes no puede tener {dia} días')  \n",
        "        else:\n",
        "          if dia<=31:\n",
        "            fin=True\n",
        "          else:\n",
        "            print(f'Un mes no puede tener {dia} días')\n",
        "            fin=False\n",
        "      else:\n",
        "        print(f'Un año no puede tener {mes} meses')\n",
        "        fin=False \n",
        "    else:\n",
        "      if mes<=12:\n",
        "        if dia<=31:\n",
        "          fin=True\n",
        "\n",
        "        else:\n",
        "          print(f'Un mes no puede tener {dia} días')\n",
        "          fin=False\n",
        "\n",
        "      else:\n",
        "        print(f'Un año no puede tener {mes} meses')\n",
        "        fin=False \n",
        "\n",
        "  except:\n",
        "    print(\"El número de dia/mes/año debe de ser un número real\")\n",
        "\n",
        "dia_semana=calcular_dia(dia,mes,año,bisiesto(año)) # para calcular el día\n",
        "print(dia_semana)"
      ]
    }
  ]
}